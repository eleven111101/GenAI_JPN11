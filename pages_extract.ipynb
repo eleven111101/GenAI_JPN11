{
  "nbformat": 4,
  "nbformat_minor": 0,
  "metadata": {
    "colab": {
      "provenance": [],
      "authorship_tag": "ABX9TyMMTC9Dk/2mmdF9eJuj5Xyl",
      "include_colab_link": true
    },
    "kernelspec": {
      "name": "python3",
      "display_name": "Python 3"
    },
    "language_info": {
      "name": "python"
    }
  },
  "cells": [
    {
      "cell_type": "markdown",
      "metadata": {
        "id": "view-in-github",
        "colab_type": "text"
      },
      "source": [
        "<a href=\"https://colab.research.google.com/github/eleven111101/GenAI_JPN11/blob/main/pages_extract.ipynb\" target=\"_parent\"><img src=\"https://colab.research.google.com/assets/colab-badge.svg\" alt=\"Open In Colab\"/></a>"
      ]
    },
    {
      "cell_type": "code",
      "execution_count": null,
      "metadata": {
        "id": "8wpJKxfEiu4s",
        "colab": {
          "base_uri": "https://localhost:8080/"
        },
        "collapsed": true,
        "outputId": "1b989c88-fd35-417d-ae8e-943c9a017325"
      },
      "outputs": [
        {
          "output_type": "stream",
          "name": "stdout",
          "text": [
            "Requirement already satisfied: opencv-python-headless in /usr/local/lib/python3.10/dist-packages (4.9.0.80)\n",
            "Requirement already satisfied: numpy>=1.21.2 in /usr/local/lib/python3.10/dist-packages (from opencv-python-headless) (1.25.2)\n",
            "Requirement already satisfied: pytesseract in /usr/local/lib/python3.10/dist-packages (0.3.10)\n",
            "Requirement already satisfied: packaging>=21.3 in /usr/local/lib/python3.10/dist-packages (from pytesseract) (24.0)\n",
            "Requirement already satisfied: Pillow>=8.0.0 in /usr/local/lib/python3.10/dist-packages (from pytesseract) (9.4.0)\n",
            "Requirement already satisfied: pdf2image in /usr/local/lib/python3.10/dist-packages (1.17.0)\n",
            "Requirement already satisfied: pillow in /usr/local/lib/python3.10/dist-packages (from pdf2image) (9.4.0)\n",
            "Requirement already satisfied: pandas in /usr/local/lib/python3.10/dist-packages (2.0.3)\n",
            "Requirement already satisfied: openpyxl in /usr/local/lib/python3.10/dist-packages (3.1.2)\n",
            "Requirement already satisfied: python-dateutil>=2.8.2 in /usr/local/lib/python3.10/dist-packages (from pandas) (2.8.2)\n",
            "Requirement already satisfied: pytz>=2020.1 in /usr/local/lib/python3.10/dist-packages (from pandas) (2023.4)\n",
            "Requirement already satisfied: tzdata>=2022.1 in /usr/local/lib/python3.10/dist-packages (from pandas) (2024.1)\n",
            "Requirement already satisfied: numpy>=1.21.0 in /usr/local/lib/python3.10/dist-packages (from pandas) (1.25.2)\n",
            "Requirement already satisfied: et-xmlfile in /usr/local/lib/python3.10/dist-packages (from openpyxl) (1.1.0)\n",
            "Requirement already satisfied: six>=1.5 in /usr/local/lib/python3.10/dist-packages (from python-dateutil>=2.8.2->pandas) (1.16.0)\n",
            "Reading package lists... Done\n",
            "Building dependency tree... Done\n",
            "Reading state information... Done\n",
            "tesseract-ocr is already the newest version (4.1.1-2.1build1).\n",
            "0 upgraded, 0 newly installed, 0 to remove and 45 not upgraded.\n"
          ]
        }
      ],
      "source": [
        "!pip install opencv-python-headless\n",
        "!pip install pytesseract\n",
        "!pip install pdf2image\n",
        "!pip install pandas openpyxl\n",
        "!sudo apt-get install tesseract-ocr"
      ]
    },
    {
      "cell_type": "code",
      "source": [
        "!sudo apt-get install poppler-utils\n"
      ],
      "metadata": {
        "colab": {
          "base_uri": "https://localhost:8080/"
        },
        "collapsed": true,
        "id": "TEJua6DZj4UJ",
        "outputId": "059da9cc-e2a7-439e-a274-966531859d5c"
      },
      "execution_count": null,
      "outputs": [
        {
          "output_type": "stream",
          "name": "stdout",
          "text": [
            "Reading package lists... Done\n",
            "Building dependency tree... Done\n",
            "Reading state information... Done\n",
            "poppler-utils is already the newest version (22.02.0-2ubuntu0.4).\n",
            "0 upgraded, 0 newly installed, 0 to remove and 45 not upgraded.\n"
          ]
        }
      ]
    },
    {
      "cell_type": "code",
      "source": [
        "import pandas as pd\n",
        "import cv2\n",
        "import pytesseract\n",
        "from pdf2image import convert_from_path\n",
        "import os\n",
        "import re\n",
        "\n",
        "# Add Poppler binaries to the PATH\n",
        "os.environ[\"PATH\"] += os.pathsep + \"/usr/bin\"\n",
        "\n",
        "def extract_data_with_keyword(pdf_path, keyword):\n",
        "    extracted_data = []\n",
        "\n",
        "    # Convert PDF pages to images using pdf2image\n",
        "    pages = convert_from_path(pdf_path, 300)  # Set the DPI (dots per inch)\n",
        "\n",
        "    for i, page in enumerate(pages, start=1):\n",
        "        # Save the image temporarily\n",
        "        temp_image_path = f\"temp_page_{i}.png\"\n",
        "        page.save(temp_image_path, \"PNG\")\n",
        "\n",
        "        # Read the saved image using OpenCV\n",
        "        img = cv2.imread(temp_image_path)\n",
        "\n",
        "        if img is not None:\n",
        "            # Use pytesseract to perform OCR on the image\n",
        "            img_text = pytesseract.image_to_string(img, config='--psm 6')  # PSM 6 for sparse text\n",
        "\n",
        "            # Search for the keyword in the extracted text\n",
        "            if keyword.lower() in img_text.lower():\n",
        "                # Append extracted data to the list\n",
        "                extracted_data.append({\n",
        "                    'Page': i,\n",
        "                    'Text': img_text.strip()\n",
        "                })\n",
        "\n",
        "        # Remove the temporary image file\n",
        "        os.remove(temp_image_path)\n",
        "\n",
        "    return extracted_data\n",
        "\n",
        "try:\n",
        "    # Ask the user for the input PDF file and keyword\n",
        "    pdf_path = input(\"Enter the path to the PDF file: \")\n",
        "    keyword = input(\"Enter the keyword to search for: \")\n",
        "\n",
        "    # Check if the file exists\n",
        "    if not os.path.isfile(pdf_path):\n",
        "        print(\"Error: The specified file does not exist.\")\n",
        "    else:\n",
        "        # Extract data related to the keyword from the PDF\n",
        "        extracted_data = extract_data_with_keyword(pdf_path, keyword)\n",
        "\n",
        "        if extracted_data:\n",
        "            # Create a Pandas DataFrame from the extracted data\n",
        "            df = pd.DataFrame(extracted_data)\n",
        "\n",
        "            # Create a Pandas ExcelWriter object\n",
        "            output_file = f\"{keyword}_data.xlsx\"\n",
        "            with pd.ExcelWriter(output_file) as writer:\n",
        "                # Write data to Excel\n",
        "                df.to_excel(writer, sheet_name=f\"{keyword.capitalize()} Data\", index=False)\n",
        "\n",
        "            print(f\"Data related to '{keyword}' extracted and saved to {output_file}.\")\n",
        "        else:\n",
        "            print(f\"No data related to '{keyword}' found in the PDF.\")\n",
        "\n",
        "except Exception as e:\n",
        "    print(f\"An error occurred: {e}\")\n"
      ],
      "metadata": {
        "colab": {
          "base_uri": "https://localhost:8080/"
        },
        "id": "3XQW8mVcjRdi",
        "outputId": "a88047aa-25f1-427c-97f5-ce13ec6446c1"
      },
      "execution_count": null,
      "outputs": [
        {
          "output_type": "stream",
          "name": "stdout",
          "text": [
            "Enter the path to the PDF file: /content/ASSESSMENT PROTOCOL.pdf\n",
            "Enter the keyword to search for: ASSESSMENT PROTOCOL – SAFETY ASSIST\n",
            "No data related to 'ASSESSMENT PROTOCOL – SAFETY ASSIST' found in the PDF.\n"
          ]
        }
      ]
    },
    {
      "cell_type": "code",
      "source": [
        "import pandas as pd\n",
        "import cv2\n",
        "import pytesseract\n",
        "from pdf2image import convert_from_path\n",
        "import os\n",
        "import re\n",
        "\n",
        "# Add Poppler binaries to the PATH\n",
        "os.environ[\"PATH\"] += os.pathsep + \"/usr/bin\"\n",
        "\n",
        "def extract_content_structure(pdf_path):\n",
        "    # Convert PDF pages to images using pdf2image\n",
        "    pages = convert_from_path(pdf_path, 300)  # Set the DPI (dots per inch)\n",
        "\n",
        "    content_structure = []\n",
        "    current_level = []\n",
        "    prev_indent = 0\n",
        "\n",
        "    for i, page in enumerate(pages, start=1):\n",
        "        # Read the saved image using OpenCV\n",
        "        img = cv2.imread(f\"temp_page_{i}.png\")\n",
        "\n",
        "        if img is not None:\n",
        "            # Use pytesseract to perform OCR on the image\n",
        "            img_text = pytesseract.image_to_string(img, config='--psm 6')  # PSM 6 for sparse text\n",
        "\n",
        "            # Process the extracted text to get content structure\n",
        "            lines = img_text.strip().split('\\n')\n",
        "            for line in lines:\n",
        "                indent_level = len(re.match(r'^\\s*', line).group())\n",
        "\n",
        "                if indent_level > prev_indent:\n",
        "                    current_level.append(line.strip())\n",
        "                elif indent_level < prev_indent:\n",
        "                    for _ in range(prev_indent - indent_level):\n",
        "                        current_level.pop()\n",
        "                    current_level.append(line.strip())\n",
        "                else:\n",
        "                    current_level.pop()\n",
        "                    current_level.append(line.strip())\n",
        "\n",
        "                content_structure.append('.'.join(current_level))\n",
        "\n",
        "                prev_indent = indent_level\n",
        "\n",
        "    return content_structure\n",
        "\n",
        "def extract_content_with_number(pdf_path, content_number):\n",
        "    content_structure = extract_content_structure(pdf_path)\n",
        "\n",
        "    extracted_data = []\n",
        "    start_extraction = False\n",
        "\n",
        "    for line in content_structure:\n",
        "        if start_extraction:\n",
        "            extracted_data.append(line)\n",
        "        elif line.startswith(content_number):\n",
        "            extracted_data.append(line)\n",
        "            start_extraction = True\n",
        "\n",
        "    return extracted_data\n",
        "\n",
        "try:\n",
        "    # Ask the user for the input PDF file and content number\n",
        "    pdf_path = input(\"Enter the path to the PDF file: \")\n",
        "    content_number = input(\"Enter the content number to search for (e.g., 3): \")\n",
        "\n",
        "    # Check if the file exists\n",
        "    if not os.path.isfile(pdf_path):\n",
        "        print(\"Error: The specified file does not exist.\")\n",
        "    else:\n",
        "        # Extract content starting with the specified number\n",
        "        extracted_content = extract_content_with_number(pdf_path, content_number)\n",
        "\n",
        "        if extracted_content:\n",
        "            print(f\"Content starting with '{content_number}' extracted:\")\n",
        "            for content in extracted_content:\n",
        "                print(content)\n",
        "        else:\n",
        "            print(f\"No content starting with '{content_number}' found in the PDF.\")\n",
        "\n",
        "except Exception as e:\n",
        "    print(f\"An error occurred: {e}\")\n"
      ],
      "metadata": {
        "colab": {
          "base_uri": "https://localhost:8080/"
        },
        "id": "9_xg6im-uPuF",
        "outputId": "f5de0fae-3288-4ac6-c00b-6d609c11ae4e"
      },
      "execution_count": null,
      "outputs": [
        {
          "output_type": "stream",
          "name": "stdout",
          "text": [
            "Enter the path to the PDF file: /content/ASSESSMENT PROTOCOL.pdf\n",
            "Enter the content number to search for (e.g., 3): 3\n",
            "No content starting with '3' found in the PDF.\n"
          ]
        }
      ]
    },
    {
      "cell_type": "code",
      "source": [
        "import pandas as pd\n",
        "import cv2\n",
        "import pytesseract\n",
        "from pdf2image import convert_from_path\n",
        "import os\n",
        "\n",
        "# Add Poppler binaries to the PATH\n",
        "os.environ[\"PATH\"] += os.pathsep + \"/usr/bin\"\n",
        "\n",
        "def extract_text_and_images(pdf_path, start_page, end_page):\n",
        "    extracted_data = []\n",
        "\n",
        "    # Convert PDF pages to images using pdf2image\n",
        "    pages = convert_from_path(pdf_path, 300, first_page=start_page, last_page=end_page)  # Set the DPI and page range\n",
        "\n",
        "    for i, page in enumerate(pages, start=start_page):\n",
        "        # Save the image temporarily\n",
        "        temp_image_path = f\"temp_page_{i}.png\"\n",
        "        page.save(temp_image_path, \"PNG\")\n",
        "\n",
        "        # Read the saved image using OpenCV\n",
        "        img = cv2.imread(temp_image_path)\n",
        "\n",
        "        if img is not None:\n",
        "            # Convert image to grayscale\n",
        "            gray = cv2.cvtColor(img, cv2.COLOR_BGR2GRAY)\n",
        "\n",
        "            # Apply thresholding to preprocess the image\n",
        "            _, thresh = cv2.threshold(gray, 150, 255, cv2.THRESH_BINARY)\n",
        "\n",
        "            # Use pytesseract to perform OCR on the preprocessed image\n",
        "            img_text = pytesseract.image_to_string(thresh, config='--psm 6')  # PSM 6 for sparse text\n",
        "\n",
        "            # Split the extracted text into separate lines\n",
        "            extracted_lines = img_text.strip().split('\\n')\n",
        "\n",
        "            # Append extracted lines and image to the list\n",
        "            extracted_data.append({\n",
        "                'Page': i,\n",
        "                'Text': '\\n'.join(extracted_lines),\n",
        "                'Image': cv2.imencode('.png', img)[1]  # Encode image as PNG bytes\n",
        "            })\n",
        "\n",
        "        # Remove the temporary image file\n",
        "        os.remove(temp_image_path)\n",
        "\n",
        "    return extracted_data\n",
        "\n",
        "try:\n",
        "    # Ask the user for the input PDF file\n",
        "    pdf_path = input(\"Enter the path to the PDF file: \")\n",
        "\n",
        "    # Check if the file exists\n",
        "    if not os.path.isfile(pdf_path):\n",
        "        print(\"Error: The specified file does not exist.\")\n",
        "    else:\n",
        "        # Ask for the start and end page numbers\n",
        "        start_page = int(input(\"Enter the start page number: \"))\n",
        "        end_page = int(input(\"Enter the end page number: \"))\n",
        "\n",
        "        # Extract text and images from the specified page range\n",
        "        extracted_data = extract_text_and_images(pdf_path, start_page, end_page)\n",
        "\n",
        "        # Create a Pandas DataFrame from the extracted data\n",
        "        df = pd.DataFrame(extracted_data)\n",
        "\n",
        "        # Create a Pandas ExcelWriter object\n",
        "        with pd.ExcelWriter('extracted_data.xlsx') as writer:\n",
        "            # Write data to Excel\n",
        "            df.to_excel(writer, sheet_name='Extracted_Data', index=False)\n",
        "\n",
        "        print(\"Data extracted and saved to extracted_data.xlsx.\")\n",
        "\n",
        "except Exception as e:\n",
        "    print(f\"An error occurred: {e}\")\n"
      ],
      "metadata": {
        "colab": {
          "base_uri": "https://localhost:8080/"
        },
        "id": "88JTlnk92VQ6",
        "outputId": "75787c08-422d-4c88-b8b1-3ddfd3892834"
      },
      "execution_count": null,
      "outputs": [
        {
          "output_type": "stream",
          "name": "stdout",
          "text": [
            "Enter the path to the PDF file: /content/euro-ncap-assessment-protocol-sa-v903.pdf\n",
            "Enter the start page number: 2\n",
            "Enter the end page number: 4\n",
            "Data extracted and saved to extracted_data.xlsx.\n"
          ]
        }
      ]
    }
  ]
}