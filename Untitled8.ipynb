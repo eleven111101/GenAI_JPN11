{
  "nbformat": 4,
  "nbformat_minor": 0,
  "metadata": {
    "colab": {
      "provenance": [],
      "authorship_tag": "ABX9TyNkAQF4lsfU+vZg6FSMXQCc",
      "include_colab_link": true
    },
    "kernelspec": {
      "name": "python3",
      "display_name": "Python 3"
    },
    "language_info": {
      "name": "python"
    }
  },
  "cells": [
    {
      "cell_type": "markdown",
      "metadata": {
        "id": "view-in-github",
        "colab_type": "text"
      },
      "source": [
        "<a href=\"https://colab.research.google.com/github/eleven111101/GenAI_JPN11/blob/main/Untitled8.ipynb\" target=\"_parent\"><img src=\"https://colab.research.google.com/assets/colab-badge.svg\" alt=\"Open In Colab\"/></a>"
      ]
    },
    {
      "cell_type": "code",
      "execution_count": 4,
      "metadata": {
        "id": "8wpJKxfEiu4s",
        "colab": {
          "base_uri": "https://localhost:8080/"
        },
        "collapsed": true,
        "outputId": "1b989c88-fd35-417d-ae8e-943c9a017325"
      },
      "outputs": [
        {
          "output_type": "stream",
          "name": "stdout",
          "text": [
            "Requirement already satisfied: opencv-python-headless in /usr/local/lib/python3.10/dist-packages (4.9.0.80)\n",
            "Requirement already satisfied: numpy>=1.21.2 in /usr/local/lib/python3.10/dist-packages (from opencv-python-headless) (1.25.2)\n",
            "Requirement already satisfied: pytesseract in /usr/local/lib/python3.10/dist-packages (0.3.10)\n",
            "Requirement already satisfied: packaging>=21.3 in /usr/local/lib/python3.10/dist-packages (from pytesseract) (24.0)\n",
            "Requirement already satisfied: Pillow>=8.0.0 in /usr/local/lib/python3.10/dist-packages (from pytesseract) (9.4.0)\n",
            "Requirement already satisfied: pdf2image in /usr/local/lib/python3.10/dist-packages (1.17.0)\n",
            "Requirement already satisfied: pillow in /usr/local/lib/python3.10/dist-packages (from pdf2image) (9.4.0)\n",
            "Requirement already satisfied: pandas in /usr/local/lib/python3.10/dist-packages (2.0.3)\n",
            "Requirement already satisfied: openpyxl in /usr/local/lib/python3.10/dist-packages (3.1.2)\n",
            "Requirement already satisfied: python-dateutil>=2.8.2 in /usr/local/lib/python3.10/dist-packages (from pandas) (2.8.2)\n",
            "Requirement already satisfied: pytz>=2020.1 in /usr/local/lib/python3.10/dist-packages (from pandas) (2023.4)\n",
            "Requirement already satisfied: tzdata>=2022.1 in /usr/local/lib/python3.10/dist-packages (from pandas) (2024.1)\n",
            "Requirement already satisfied: numpy>=1.21.0 in /usr/local/lib/python3.10/dist-packages (from pandas) (1.25.2)\n",
            "Requirement already satisfied: et-xmlfile in /usr/local/lib/python3.10/dist-packages (from openpyxl) (1.1.0)\n",
            "Requirement already satisfied: six>=1.5 in /usr/local/lib/python3.10/dist-packages (from python-dateutil>=2.8.2->pandas) (1.16.0)\n",
            "Reading package lists... Done\n",
            "Building dependency tree... Done\n",
            "Reading state information... Done\n",
            "tesseract-ocr is already the newest version (4.1.1-2.1build1).\n",
            "0 upgraded, 0 newly installed, 0 to remove and 45 not upgraded.\n"
          ]
        }
      ],
      "source": [
        "!pip install opencv-python-headless\n",
        "!pip install pytesseract\n",
        "!pip install pdf2image\n",
        "!pip install pandas openpyxl\n",
        "!sudo apt-get install tesseract-ocr"
      ]
    },
    {
      "cell_type": "code",
      "source": [
        "!sudo apt-get install poppler-utils\n"
      ],
      "metadata": {
        "colab": {
          "base_uri": "https://localhost:8080/"
        },
        "collapsed": true,
        "id": "TEJua6DZj4UJ",
        "outputId": "059da9cc-e2a7-439e-a274-966531859d5c"
      },
      "execution_count": 5,
      "outputs": [
        {
          "output_type": "stream",
          "name": "stdout",
          "text": [
            "Reading package lists... Done\n",
            "Building dependency tree... Done\n",
            "Reading state information... Done\n",
            "poppler-utils is already the newest version (22.02.0-2ubuntu0.4).\n",
            "0 upgraded, 0 newly installed, 0 to remove and 45 not upgraded.\n"
          ]
        }
      ]
    },
    {
      "cell_type": "code",
      "source": [
        "import pandas as pd\n",
        "import cv2\n",
        "import pytesseract\n",
        "from pdf2image import convert_from_path\n",
        "import os\n",
        "\n",
        "# Add Poppler binaries to the PATH\n",
        "os.environ[\"PATH\"] += os.pathsep + \"/usr/bin\"\n",
        "\n",
        "def extract_text_and_images(pdf_path):\n",
        "    extracted_data = []\n",
        "\n",
        "    # Convert PDF pages to images using pdf2image\n",
        "    pages = convert_from_path(pdf_path, 300)  # Set the DPI (dots per inch)\n",
        "\n",
        "    for i, page in enumerate(pages, start=1):\n",
        "        # Save the image temporarily\n",
        "        temp_image_path = f\"temp_page_{i}.png\"\n",
        "        page.save(temp_image_path, \"PNG\")\n",
        "\n",
        "        # Read the saved image using OpenCV\n",
        "        img = cv2.imread(temp_image_path)\n",
        "\n",
        "        if img is not None:\n",
        "            # Convert image to grayscale\n",
        "            gray = cv2.cvtColor(img, cv2.COLOR_BGR2GRAY)\n",
        "\n",
        "            # Apply thresholding to preprocess the image\n",
        "            _, thresh = cv2.threshold(gray, 150, 255, cv2.THRESH_BINARY)\n",
        "\n",
        "            # Use pytesseract to perform OCR on the preprocessed image\n",
        "            img_text = pytesseract.image_to_string(thresh, config='--psm 6')  # PSM 6 for sparse text\n",
        "\n",
        "            # Split the extracted text into separate lines\n",
        "            extracted_lines = img_text.strip().split('\\n')\n",
        "\n",
        "            # Append extracted lines and image to the list\n",
        "            extracted_data.append({\n",
        "                'Page': i,\n",
        "                'Text': '\\n'.join(extracted_lines),\n",
        "                'Image': cv2.imencode('.png', img)[1]  # Encode image as PNG bytes\n",
        "            })\n",
        "\n",
        "        # Remove the temporary image file\n",
        "        os.remove(temp_image_path)\n",
        "\n",
        "    return extracted_data\n",
        "\n",
        "try:\n",
        "    # Ask the user for the input PDF file\n",
        "    pdf_path = input(\"Enter the path to the PDF file: \")\n",
        "\n",
        "    # Check if the file exists\n",
        "    if not os.path.isfile(pdf_path):\n",
        "        print(\"Error: The specified file does not exist.\")\n",
        "    else:\n",
        "        # Extract text and images from the PDF\n",
        "        extracted_data = extract_text_and_images(pdf_path)\n",
        "\n",
        "        # Create a Pandas DataFrame from the extracted data\n",
        "        df = pd.DataFrame(extracted_data)\n",
        "\n",
        "        # Create a Pandas ExcelWriter object\n",
        "        with pd.ExcelWriter('extracted_data.xlsx') as writer:\n",
        "            # Write data to Excel\n",
        "            df.to_excel(writer, sheet_name='Extracted_Data', index=False)\n",
        "\n",
        "        print(\"Data extracted and saved to extracted_data.xlsx.\")\n",
        "\n",
        "except Exception as e:\n",
        "    print(f\"An error occurred: {e}\")\n"
      ],
      "metadata": {
        "colab": {
          "base_uri": "https://localhost:8080/"
        },
        "id": "3XQW8mVcjRdi",
        "outputId": "d794edfa-6fbf-4c76-9e21-964486a3fc24"
      },
      "execution_count": 9,
      "outputs": [
        {
          "output_type": "stream",
          "name": "stdout",
          "text": [
            "Enter the path to the PDF file: /content/euro-ncap-assessment-protocol-sa-v903.pdf\n",
            "Data extracted and saved to extracted_data.xlsx.\n"
          ]
        }
      ]
    }
  ]
}